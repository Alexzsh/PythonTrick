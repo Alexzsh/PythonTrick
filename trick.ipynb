{
 "cells": [
  {
   "cell_type": "markdown",
   "metadata": {},
   "source": [
    "### wtfPython docu"
   ]
  },
  {
   "cell_type": "markdown",
   "metadata": {},
   "source": [
    "## 1.string interning"
   ]
  },
  {
   "cell_type": "code",
   "execution_count": 1,
   "metadata": {
    "collapsed": false
   },
   "outputs": [
    {
     "name": "stdout",
     "output_type": "stream",
     "text": [
      "True\n"
     ]
    }
   ],
   "source": [
    "a=\"a_b\"\n",
    "b=\"a\"+\"_\"+\"b\"\n",
    "print(id(a)==id(b))"
   ]
  },
  {
   "cell_type": "code",
   "execution_count": 2,
   "metadata": {
    "collapsed": false
   },
   "outputs": [
    {
     "name": "stdout",
     "output_type": "stream",
     "text": [
      "False\n"
     ]
    }
   ],
   "source": [
    "a=a+\"!\"\n",
    "b=b+\"!\"\n",
    "print(id(a) is id(b))"
   ]
  },
  {
   "cell_type": "code",
   "execution_count": 3,
   "metadata": {
    "collapsed": false
   },
   "outputs": [
    {
     "data": {
      "text/plain": [
       "False"
      ]
     },
     "execution_count": 3,
     "metadata": {},
     "output_type": "execute_result"
    }
   ],
   "source": [
    "a=''.join(['f','o','o'])\n",
    "b=''.join(['f','o','o'])\n",
    "a is  b"
   ]
  },
  {
   "cell_type": "markdown",
   "metadata": {},
   "source": [
    "Such behavior is due to Cython optimization called **`string interning`** that tries to use the existing immutable objects rather than creating a new object to save memory.\n",
    "- all length 0 and 1 string are interned\n",
    "- strings will be interned at compile time instead of run time \n",
    "- strings that are not composed of ASCII letters ,digits or underscores are not interned\n",
    "> by the way **the different of 'id' and '=='**<br>\n",
    "'id' checks if both the operands refer to the same object .it is for reference equality<br>\n",
    "'==' compares the values of both the operands and checks if they are the same. it is for the value equality\n",
    "------------------\n",
    "这是因为Cpython优化的**字符串驻留**机制,其尝试使用已存在的不可变变量而非新建一个变量\n",
    "- 只有长度为0或1的字符会被驻留\n",
    "- 字符串驻留会在编译期发生即替换结果而非运行时\n",
    "- 字符串中字母、数字、下划线不会被驻留\n",
    "> 顺便提及‘id’ 和‘==’的区别  \n",
    "‘id’判断地址 ‘==’判断值"
   ]
  },
  {
   "cell_type": "markdown",
   "metadata": {},
   "source": [
    "## 2.peephole optimization  constant floding  small_ints cache"
   ]
  },
  {
   "cell_type": "code",
   "execution_count": 4,
   "metadata": {
    "collapsed": false
   },
   "outputs": [
    {
     "name": "stdout",
     "output_type": "stream",
     "text": [
      "  3           0 LOAD_CONST               3 ('foobar')\n",
      "              2 RETURN_VALUE\n"
     ]
    }
   ],
   "source": [
    "import dis\n",
    "def foo():\n",
    "    return 'foo'+'bar'\n",
    "dis.dis(foo)"
   ]
  },
  {
   "cell_type": "code",
   "execution_count": 5,
   "metadata": {
    "collapsed": false
   },
   "outputs": [
    {
     "data": {
      "text/plain": [
       "False"
      ]
     },
     "execution_count": 5,
     "metadata": {},
     "output_type": "execute_result"
    }
   ],
   "source": [
    "a='a'*20\n",
    "b='a'*21\n",
    "a is b"
   ]
  },
  {
   "cell_type": "code",
   "execution_count": 6,
   "metadata": {
    "collapsed": false
   },
   "outputs": [
    {
     "name": "stdout",
     "output_type": "stream",
     "text": [
      "True\n",
      "True\n",
      "True\n",
      "True\n",
      "False\n",
      "False\n"
     ]
    }
   ],
   "source": [
    "a,b=257,257\n",
    "print(a==b)\n",
    "print(a is b)\n",
    "print(id(a)==id(b))\n",
    "a=257\n",
    "b=257\n",
    "print(a==b)\n",
    "print(a is b)\n",
    "print(id(a)==id(b))"
   ]
  },
  {
   "cell_type": "markdown",
   "metadata": {},
   "source": [
    "- source code will be transformed to **`raw byte code`** first than transformed to 'more efficient byte code ' via peephole optimization  \n",
    "- **`constant folding`** only occurs strings having length less than 20 (wont let **`.pyc`** to large) to reduce few clock cycles during runtime  \n",
    "- python will cache the frequency number to a list named **`small_ints`** just for **`[-5,256]`**  \n",
    "' = ' assigning operator in the same line will allocate same memory if just one value for multi-variances \n",
    "-----------\n",
    "- python源码会先被编译成原始字节码进而再通过peephole优化编译成更加高效的字节码\n",
    "- **字符串折叠** 仅仅发生在字符串长度不超过20的前提下(否则会使pyc文件过大),以在运行期减少时间周期\n",
    "- python会缓存常用整数 范围仅(-5,256)\n",
    "- 同行赋值同值同地址"
   ]
  },
  {
   "cell_type": "markdown",
   "metadata": {},
   "source": [
    "## 3.dict K&V"
   ]
  },
  {
   "cell_type": "code",
   "execution_count": 8,
   "metadata": {
    "collapsed": false
   },
   "outputs": [
    {
     "ename": "NameError",
     "evalue": "name 'dict1' is not defined",
     "output_type": "error",
     "traceback": [
      "\u001b[1;31m---------------------------------------------------------------------------\u001b[0m",
      "\u001b[1;31mNameError\u001b[0m                                 Traceback (most recent call last)",
      "\u001b[1;32m<ipython-input-8-7c3c8084a259>\u001b[0m in \u001b[0;36m<module>\u001b[1;34m()\u001b[0m\n\u001b[1;32m----> 1\u001b[1;33m \u001b[0mdict1\u001b[0m\u001b[1;33m[\u001b[0m\u001b[1;36m1\u001b[0m\u001b[1;33m]\u001b[0m\u001b[1;33m=\u001b[0m\u001b[1;34m'1'\u001b[0m\u001b[1;33m\u001b[0m\u001b[0m\n\u001b[0m\u001b[0;32m      2\u001b[0m \u001b[0mdict1\u001b[0m\u001b[1;33m[\u001b[0m\u001b[1;36m1.0\u001b[0m\u001b[1;33m]\u001b[0m\u001b[1;33m=\u001b[0m\u001b[1;34m'2'\u001b[0m\u001b[1;33m\u001b[0m\u001b[0m\n\u001b[0;32m      3\u001b[0m \u001b[0mdict1\u001b[0m\u001b[1;33m[\u001b[0m\u001b[1;36m1.1\u001b[0m\u001b[1;33m]\u001b[0m\u001b[1;33m=\u001b[0m\u001b[1;34m'3'\u001b[0m\u001b[1;33m\u001b[0m\u001b[0m\n\u001b[0;32m      4\u001b[0m \u001b[0mprint\u001b[0m\u001b[1;33m(\u001b[0m\u001b[0mdict1\u001b[0m\u001b[1;33m[\u001b[0m\u001b[1;36m1\u001b[0m\u001b[1;33m]\u001b[0m\u001b[1;33m)\u001b[0m\u001b[1;33m\u001b[0m\u001b[0m\n\u001b[0;32m      5\u001b[0m \u001b[0mprint\u001b[0m\u001b[1;33m(\u001b[0m\u001b[0mdict1\u001b[0m\u001b[1;33m[\u001b[0m\u001b[1;36m1.0\u001b[0m\u001b[1;33m]\u001b[0m\u001b[1;33m)\u001b[0m\u001b[1;33m\u001b[0m\u001b[0m\n",
      "\u001b[1;31mNameError\u001b[0m: name 'dict1' is not defined"
     ]
    }
   ],
   "source": [
    "dict1[1]='1'\n",
    "dict1[1.0]='2'\n",
    "dict1[1.1]='3'\n",
    "print(dict1[1])\n",
    "print(dict1[1.0])\n",
    "print(dict1[1.1])"
   ]
  },
  {
   "cell_type": "code",
   "execution_count": null,
   "metadata": {
    "collapsed": true
   },
   "outputs": [],
   "source": [
    "hash(1.0) is hash(1)"
   ]
  },
  {
   "cell_type": "markdown",
   "metadata": {
    "collapsed": false
   },
   "source": [
    "python dict check for equality and compare `hash(key)` to determinate if two keys have same value  \n",
    "\n",
    "----------------\n",
    "python 字典会根据`key`的hash值来确定是否是同一个key且在python中不可变变量同值同地址\n",
    "\n",
    "## 4.immutable ＆ mutable reference"
   ]
  },
  {
   "cell_type": "code",
   "execution_count": null,
   "metadata": {
    "collapsed": false
   },
   "outputs": [],
   "source": [
    "b=1\n",
    "print(id(b))\n",
    "b=2\n",
    "print(id(b))\n",
    "c=1\n",
    "print(id(c))\n",
    "a=[1,2]\n",
    "c=[a]*3\n",
    "print(c,' ',id(c[0]),' ',id(a[0]))\n",
    "a[0]=3\n",
    "print(c,' ',id(c[0]),' ',id(a[0]))"
   ]
  },
  {
   "cell_type": "markdown",
   "metadata": {},
   "source": [
    "immutable varience will give certain memory by value and this memory cant be changed just can turn to other memory<br>\n",
    "mutable varience will give certain memory and the deeply immutable varience in this are same as below  \n",
    "\n",
    "---------------------------------------\n",
    "h不可变变量根据值分配内存地址若更改即更改其指向\n",
    "可变变量分配内存地址后不变,子不可变变量法则如上"
   ]
  },
  {
   "cell_type": "markdown",
   "metadata": {},
   "source": [
    "## 5. declare & runtime"
   ]
  },
  {
   "cell_type": "code",
   "execution_count": null,
   "metadata": {
    "collapsed": false
   },
   "outputs": [],
   "source": [
    "array=[1,8,15]\n",
    "g=(i for i in array if array.count(i)>0)\n",
    "array=[2,8,22]\n",
    "print(list(g))\n",
    "array=[1,8,15]\n",
    "g=[i for i in array if array.count(i)>0]\n",
    "array=[2,8,22]\n",
    "print(g)"
   ]
  },
  {
   "cell_type": "markdown",
   "metadata": {
    "collapsed": true
   },
   "source": [
    "In　a **`generator`** expression __`in`__ is declareation time to determinate some constant or others, but the __`if`__ conditional clause is evaluated at runtime  \n",
    "SO first **x** is determined in compile time by '1,8,15' second **x** will determined in runtime  \n",
    "And second line express a generator it wont excute right away  \n",
    "When call **list()** to excute generator **array** is changed to '2,8,22' \n",
    "\n",
    "--------------------------------------------------\n",
    "\n",
    "在生成器表达式中`in`关键字是在编译期决定`x`的值，而`if`则是在运行期决定array的值\n",
    "所以在for中的x为[1,8,15]"
   ]
  },
  {
   "cell_type": "markdown",
   "metadata": {
    "collapsed": true
   },
   "source": [
    "## 6."
   ]
  },
  {
   "cell_type": "code",
   "execution_count": null,
   "metadata": {
    "collapsed": false
   },
   "outputs": [],
   "source": [
    "funcs = []\n",
    "results = []\n",
    "for x in range(7):\n",
    "    def some_func():\n",
    "        return x\n",
    "    funcs.append(some_func)\n",
    "    results.append(some_func())\n",
    "funcs_results = [func() for func in funcs]\n",
    "print(results,'\\n',funcs_results)"
   ]
  },
  {
   "cell_type": "code",
   "execution_count": null,
   "metadata": {
    "collapsed": false
   },
   "outputs": [],
   "source": [
    "func=[lambda x: x**i for i in range(7)]\n",
    "[f(2) for f in func]"
   ]
  },
  {
   "cell_type": "markdown",
   "metadata": {},
   "source": [
    "when defining a function inside a loop which uses variables in its body, the loop function is bound to the variable's memory not the value. So all of the functions use the latest value assigned to the variable for computation\n",
    "\n",
    "-----------------------------\n",
    "循环内部定义的函数使用的变量的话，函数绑定其指针而非地址，且该例中多个不同的函数绑定的是同一个x变量的地址  \n",
    "所以调用时的x都是最新的x值"
   ]
  }
 ],
 "metadata": {
  "kernelspec": {
   "display_name": "Python 3",
   "language": "python",
   "name": "python3"
  },
  "language_info": {
   "codemirror_mode": {
    "name": "ipython",
    "version": 3
   },
   "file_extension": ".py",
   "mimetype": "text/x-python",
   "name": "python",
   "nbconvert_exporter": "python",
   "pygments_lexer": "ipython3",
   "version": "3.6.2"
  }
 },
 "nbformat": 4,
 "nbformat_minor": 2
}
