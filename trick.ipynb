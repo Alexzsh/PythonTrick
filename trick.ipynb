{
 "cells": [
  {
   "cell_type": "markdown",
   "metadata": {},
   "source": [
    "### PythonTricks\n"
   ]
  },
  {
   "cell_type": "markdown",
   "metadata": {},
   "source": [
    "## 1.string interning"
   ]
  },
  {
   "cell_type": "code",
   "execution_count": 1,
   "metadata": {
    "collapsed": false
   },
   "outputs": [
    {
     "name": "stdout",
     "output_type": "stream",
     "text": [
      "True\n"
     ]
    }
   ],
   "source": [
    "a=\"a_b\"\n",
    "b=\"a\"+\"_\"+\"b\"\n",
    "print(id(a)==id(b))"
   ]
  },
  {
   "cell_type": "code",
   "execution_count": 2,
   "metadata": {
    "collapsed": false
   },
   "outputs": [
    {
     "name": "stdout",
     "output_type": "stream",
     "text": [
      "False\n"
     ]
    }
   ],
   "source": [
    "a=a+\"!\"\n",
    "b=b+\"!\"\n",
    "print(id(a) is id(b))"
   ]
  },
  {
   "cell_type": "code",
   "execution_count": 3,
   "metadata": {
    "collapsed": false
   },
   "outputs": [
    {
     "data": {
      "text/plain": [
       "False"
      ]
     },
     "execution_count": 3,
     "metadata": {},
     "output_type": "execute_result"
    }
   ],
   "source": [
    "a=''.join(['f','o','o'])\n",
    "b=''.join(['f','o','o'])\n",
    "a is  b"
   ]
  },
  {
   "cell_type": "markdown",
   "metadata": {},
   "source": [
    "Such behavior is due to Cython optimization called **`string interning`** that tries to use the existing immutable objects rather than creating a new object to save memory.\n",
    "- all length 0 and 1 string are interned\n",
    "- strings will be interned at compile time instead of run time \n",
    "- strings that are not composed of ASCII letters ,digits or underscores are not interned\n",
    "> by the way **the different of 'id' and '=='**<br>\n",
    "'id' checks if both the operands refer to the same object .it is for reference equality<br>\n",
    "'==' compares the values of both the operands and checks if they are the same. it is for the value equality\n",
    "------------------\n",
    "这是因为Cpython优化的**字符串驻留**机制,其尝试使用已存在的不可变变量而非新建一个变量\n",
    "- 只有长度为0或1的字符会被驻留\n",
    "- 字符串驻留会在编译期发生即替换结果而非运行时\n",
    "- 字符串中字母、数字、下划线不会被驻留\n",
    "> 顺便提及‘id’ 和‘==’的区别  \n",
    "‘id’判断地址 ‘==’判断值"
   ]
  },
  {
   "cell_type": "markdown",
   "metadata": {},
   "source": [
    "## 2.peephole optimization  constant floding  small_ints cache"
   ]
  },
  {
   "cell_type": "code",
   "execution_count": 4,
   "metadata": {
    "collapsed": false
   },
   "outputs": [
    {
     "name": "stdout",
     "output_type": "stream",
     "text": [
      "  3           0 LOAD_CONST               3 ('foobar')\n",
      "              2 RETURN_VALUE\n"
     ]
    }
   ],
   "source": [
    "import dis\n",
    "def foo():\n",
    "    return 'foo'+'bar'\n",
    "dis.dis(foo)"
   ]
  },
  {
   "cell_type": "code",
   "execution_count": 5,
   "metadata": {
    "collapsed": false
   },
   "outputs": [
    {
     "data": {
      "text/plain": [
       "False"
      ]
     },
     "execution_count": 5,
     "metadata": {},
     "output_type": "execute_result"
    }
   ],
   "source": [
    "a='a'*20\n",
    "b='a'*21\n",
    "a is b"
   ]
  },
  {
   "cell_type": "code",
   "execution_count": 6,
   "metadata": {
    "collapsed": false
   },
   "outputs": [
    {
     "name": "stdout",
     "output_type": "stream",
     "text": [
      "True\n",
      "True\n",
      "True\n",
      "True\n",
      "False\n",
      "False\n"
     ]
    }
   ],
   "source": [
    "a,b=257,257\n",
    "print(a==b)\n",
    "print(a is b)\n",
    "print(id(a)==id(b))\n",
    "a=257\n",
    "b=257\n",
    "print(a==b)\n",
    "print(a is b)\n",
    "print(id(a)==id(b))"
   ]
  },
  {
   "cell_type": "markdown",
   "metadata": {},
   "source": [
    "- source code will be transformed to **`raw byte code`** first than transformed to 'more efficient byte code ' via peephole optimization  \n",
    "- **`constant folding`** only occurs strings having length less than 20 (wont let **`.pyc`** to large) to reduce few clock cycles during runtime  \n",
    "- python will cache the frequency number to a list named **`small_ints`** just for **`[-5,256]`**  \n",
    "' = ' assigning operator in the same line will allocate same memory if just one value for multi-variances \n",
    "-----------\n",
    "- python源码会先被编译成原始字节码进而再通过peephole优化编译成更加高效的字节码\n",
    "- **字符串折叠** 仅仅发生在字符串长度不超过20的前提下(否则会使pyc文件过大),以在运行期减少时间周期\n",
    "- python会缓存常用整数 范围仅(-5,256)\n",
    "- 同行赋值同值同地址"
   ]
  },
  {
   "cell_type": "markdown",
   "metadata": {},
   "source": [
    "## 3.dict K&V"
   ]
  },
  {
   "cell_type": "code",
   "execution_count": 7,
   "metadata": {
    "collapsed": false
   },
   "outputs": [
    {
     "name": "stdout",
     "output_type": "stream",
     "text": [
      "2\n",
      "2\n",
      "3\n"
     ]
    }
   ],
   "source": [
    "dict1={}\n",
    "dict1[1]='1'\n",
    "dict1[1.0]='2'\n",
    "dict1[1.1]='3'\n",
    "print(dict1[1])\n",
    "print(dict1[1.0])\n",
    "print(dict1[1.1])"
   ]
  },
  {
   "cell_type": "code",
   "execution_count": 8,
   "metadata": {
    "collapsed": false
   },
   "outputs": [
    {
     "data": {
      "text/plain": [
       "True"
      ]
     },
     "execution_count": 8,
     "metadata": {},
     "output_type": "execute_result"
    }
   ],
   "source": [
    "hash(1.0) is hash(1)"
   ]
  },
  {
   "cell_type": "markdown",
   "metadata": {
    "collapsed": false
   },
   "source": [
    "python dict check for equality and compare `hash(key)` to determinate if two keys have same value  \n",
    "\n",
    "----------------\n",
    "python 字典会根据`key`的hash值来确定是否是同一个key且在python中不可变变量同值同地址\n",
    "\n",
    "## 4.immutable ＆ mutable reference"
   ]
  },
  {
   "cell_type": "code",
   "execution_count": 9,
   "metadata": {
    "collapsed": false
   },
   "outputs": [
    {
     "name": "stdout",
     "output_type": "stream",
     "text": [
      "1943858288\n",
      "1943858320\n",
      "1943858288\n",
      "[[1, 2], [1, 2], [1, 2]]   2230335556616   1943858288\n",
      "[[3, 2], [3, 2], [3, 2]]   2230335556616   1943858352\n"
     ]
    }
   ],
   "source": [
    "b=1\n",
    "print(id(b))\n",
    "b=2\n",
    "print(id(b))\n",
    "c=1\n",
    "print(id(c))\n",
    "a=[1,2]\n",
    "c=[a]*3\n",
    "print(c,' ',id(c[0]),' ',id(a[0]))\n",
    "a[0]=3\n",
    "print(c,' ',id(c[0]),' ',id(a[0]))"
   ]
  },
  {
   "cell_type": "markdown",
   "metadata": {},
   "source": [
    "immutable varience will give certain memory by value and this memory cant be changed just can turn to other memory<br>\n",
    "mutable varience will give certain memory and the deeply immutable varience in this are same as below  \n",
    "\n",
    "---------------------------------------\n",
    "h不可变变量根据值分配内存地址若更改即更改其指向\n",
    "可变变量分配内存地址后不变,子不可变变量法则如上"
   ]
  },
  {
   "cell_type": "markdown",
   "metadata": {},
   "source": [
    "## 5. declare & runtime"
   ]
  },
  {
   "cell_type": "code",
   "execution_count": 10,
   "metadata": {
    "collapsed": false
   },
   "outputs": [
    {
     "name": "stdout",
     "output_type": "stream",
     "text": [
      "[8]\n",
      "[1, 8, 15]\n"
     ]
    }
   ],
   "source": [
    "array=[1,8,15]\n",
    "g=(i for i in array if array.count(i)>0)\n",
    "array=[2,8,22]\n",
    "print(list(g))\n",
    "array=[1,8,15]\n",
    "g=[i for i in array if array.count(i)>0]\n",
    "array=[2,8,22]\n",
    "print(g)"
   ]
  },
  {
   "cell_type": "markdown",
   "metadata": {
    "collapsed": true
   },
   "source": [
    "In　a **`generator`** expression __`in`__ is declareation time to determinate some constant or others, but the __`if`__ conditional clause is evaluated at runtime  \n",
    "SO first **x** is determined in compile time by '1,8,15' second **x** will determined in runtime  \n",
    "And second line express a generator it wont excute right away  \n",
    "When call **list()** to excute generator **array** is changed to '2,8,22' \n",
    "\n",
    "--------------------------------------------------\n",
    "\n",
    "在生成器表达式中`in`关键字是在编译期决定`x`的值，而`if`则是在运行期决定array的值\n",
    "所以在for中的x为[1,8,15]"
   ]
  },
  {
   "cell_type": "markdown",
   "metadata": {
    "collapsed": true
   },
   "source": [
    "## 6. def in loop"
   ]
  },
  {
   "cell_type": "code",
   "execution_count": 11,
   "metadata": {
    "collapsed": false
   },
   "outputs": [
    {
     "name": "stdout",
     "output_type": "stream",
     "text": [
      "[0, 1, 2, 3, 4, 5, 6] \n",
      " [6, 6, 6, 6, 6, 6, 6]\n"
     ]
    }
   ],
   "source": [
    "funcs = []\n",
    "results = []\n",
    "for x in range(7):\n",
    "    def some_func():\n",
    "        return x\n",
    "    funcs.append(some_func)\n",
    "    results.append(some_func())\n",
    "funcs_results = [func() for func in funcs]\n",
    "print(results,'\\n',funcs_results)"
   ]
  },
  {
   "cell_type": "code",
   "execution_count": 12,
   "metadata": {
    "collapsed": false
   },
   "outputs": [
    {
     "data": {
      "text/plain": [
       "[64, 64, 64, 64, 64, 64, 64]"
      ]
     },
     "execution_count": 12,
     "metadata": {},
     "output_type": "execute_result"
    }
   ],
   "source": [
    "func=[lambda x: x**i for i in range(7)]\n",
    "[f(2) for f in func]"
   ]
  },
  {
   "cell_type": "markdown",
   "metadata": {},
   "source": [
    "when defining a function inside a loop which uses variables in its body, the loop function is bound to the variable's memory not the value. So all of the functions use the latest value assigned to the variable for computation\n",
    "\n",
    "-----------------------------\n",
    "循环内部定义的函数使用的变量的话，函数绑定其指针而非地址，且该例中多个不同的函数绑定的是同一个x变量的地址  \n",
    "所以调用时的x都是最新的x值"
   ]
  },
  {
   "cell_type": "markdown",
   "metadata": {},
   "source": [
    "## 7. Backlashes & raw string"
   ]
  },
  {
   "cell_type": "code",
   "execution_count": 13,
   "metadata": {
    "collapsed": false
   },
   "outputs": [
    {
     "ename": "SyntaxError",
     "evalue": "EOL while scanning string literal (<ipython-input-13-2d03095df6b1>, line 4)",
     "output_type": "error",
     "traceback": [
      "\u001b[1;36m  File \u001b[1;32m\"<ipython-input-13-2d03095df6b1>\"\u001b[1;36m, line \u001b[1;32m4\u001b[0m\n\u001b[1;33m    print(r'\\ C\\\\\\:\\\")\u001b[0m\n\u001b[1;37m                      ^\u001b[0m\n\u001b[1;31mSyntaxError\u001b[0m\u001b[1;31m:\u001b[0m EOL while scanning string literal\n"
     ]
    }
   ],
   "source": [
    "print(\"\\\\ C:\\\\\")\n",
    "print(r\"\\ C:\")\n",
    "print(r\"\\ C:\\\\\")\n",
    "print(r'\\ C\\\\\\:\\\")\n"
   ]
  },
  {
   "cell_type": "markdown",
   "metadata": {},
   "source": [
    "> Even in a raw literal, quotes can be escaped with a backslash, but the\n",
    "backslash remains in the result; for example, r\"\\\"\" is a valid string\n",
    "literal consisting of two characters: a backslash and a double quote; r\"\\\"\n",
    "is not a valid string literal (even a raw string cannot end in an odd number of\n",
    "backslashes).  Specifically, a raw literal cannot end in a single backslash\n",
    "(since the backslash would escape the following quote character).  Note also\n",
    "that a single backslash followed by a newline is interpreted as those two\n",
    "characters as part of the literal, not as a line continuation\n",
    "\n",
    "----------\n",
    "+ raw字符串仍然按照有转义的方式解析，但所有应当转义的字符都转义成了`反斜杠 + 被转义字符`，也就是说和转义前保持不变.\n",
    "+ 但是仅有一个地方不一样，就是引号、回车的转义。若raw string中以奇数个转义字符，那么最后一个转义字符就会转义最后一个结束引号。\n",
    "\n",
    "```python\n",
    "'abc\\\n",
    "def' # 'abcdef'\n",
    "```\n",
    "\n",
    "```py\n",
    "r'abc\\\n",
    "def' # 'abc\\\\\\ndef'\n",
    "```"
   ]
  },
  {
   "cell_type": "markdown",
   "metadata": {},
   "source": [
    "## 8. apply & reduce & map & filter"
   ]
  },
  {
   "cell_type": "code",
   "execution_count": 72,
   "metadata": {
    "collapsed": false
   },
   "outputs": [
    {
     "name": "stdout",
     "output_type": "stream",
     "text": [
      "2 1\n",
      "[4, 5, 6, 7, 8] [3, 4, 5] 15 4096 [(1, 1), (2, None), (3, None), (4, None), (5, None)] [(1, 2), (3, 4)]\n"
     ]
    }
   ],
   "source": [
    "import operator\n",
    "import itertools\n",
    "from functools import reduce\n",
    "a=[1,2,3,4,5]\n",
    "def func(*,a=1,b=1):\n",
    "    print(a,b)\n",
    "func(**{'a':2})\n",
    "b=list(map(lambda x:x+3,a))\n",
    "c=list(filter(lambda x:x>2,a))\n",
    "d=reduce(lambda x,y:x+y,a)\n",
    "e=(reduce(operator.pow,[2,3,4]))\n",
    "res=list(itertools.zip_longest(a,[1]))\n",
    "res1=list(zip(*[iter(a)]*2))\n",
    "print(b,c,d,e,res,res1)"
   ]
  },
  {
   "cell_type": "markdown",
   "metadata": {
    "collapsed": true
   },
   "source": [
    "+ python 3  ：Instead of apply(f, args) use f(*args). unpacking is importanr \n",
    "Replace this:  \n",
    "w = apply(OptionMenu, (master, option) + tuple(movieList))  \n",
    "with this:  \n",
    "w = OptionMenu(*(master, option) + tuple(movieList))\n",
    "+ `zip` just gets the shortest length for result . itertools.zip_longest gets the longest\n",
    "+ `reduce` moved to functools\n",
    "+  `zip(*zip(a,a))` can unpack the `zip`\n",
    "-----------------------\n",
    "+ python3 不在有`apply`内置函数，官方文档说明直接使用unpacking的方式在函数中调用即可\n",
    "+ `zip` 默认取最短的为边界 超出截断。 有需求可使用`itertools.zip_longest` 以最长长度为边界 不足补`None`\n",
    "+ `reduce` 移到了`functools`中 手动import\n",
    "+ `zip(*zip(a,a))` 可以对里层zip拆箱 "
   ]
  },
  {
   "cell_type": "code",
   "execution_count": 71,
   "metadata": {
    "collapsed": false
   },
   "outputs": [
    {
     "ename": "KeyError",
     "evalue": "0",
     "output_type": "error",
     "traceback": [
      "\u001b[1;31m---------------------------------------------------------------------------\u001b[0m",
      "\u001b[1;31mKeyError\u001b[0m                                  Traceback (most recent call last)",
      "\u001b[1;32m<ipython-input-71-890eb43bdcf4>\u001b[0m in \u001b[0;36m<module>\u001b[1;34m()\u001b[0m\n\u001b[1;32m----> 1\u001b[1;33m \u001b[0mlocals\u001b[0m\u001b[1;33m(\u001b[0m\u001b[1;33m)\u001b[0m\u001b[1;33m[\u001b[0m\u001b[1;36m0\u001b[0m\u001b[1;33m]\u001b[0m\u001b[1;33m\u001b[0m\u001b[0m\n\u001b[0m",
      "\u001b[1;31mKeyError\u001b[0m: 0"
     ]
    }
   ],
   "source": [
    "\n",
    "locals("
   ]
  },
  {
   "cell_type": "code",
   "execution_count": null,
   "metadata": {
    "collapsed": true
   },
   "outputs": [],
   "source": []
  }
 ],
 "metadata": {
  "kernelspec": {
   "display_name": "Python 3",
   "language": "python",
   "name": "python3"
  },
  "language_info": {
   "codemirror_mode": {
    "name": "ipython",
    "version": 3
   },
   "file_extension": ".py",
   "mimetype": "text/x-python",
   "name": "python",
   "nbconvert_exporter": "python",
   "pygments_lexer": "ipython3",
   "version": "3.6.2"
  }
 },
 "nbformat": 4,
 "nbformat_minor": 2
}
