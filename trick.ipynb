{
 "cells": [
  {
   "cell_type": "markdown",
   "metadata": {},
   "source": [
    "### PythonTricks\n"
   ]
  },
  {
   "cell_type": "markdown",
   "metadata": {},
   "source": [
    "## 1.string interning"
   ]
  },
  {
   "cell_type": "code",
   "execution_count": 1,
   "metadata": {},
   "outputs": [
    {
     "name": "stdout",
     "output_type": "stream",
     "text": [
      "True\n"
     ]
    }
   ],
   "source": [
    "a=\"a_b\"\n",
    "b=\"a\"+\"_\"+\"b\"\n",
    "print(id(a)==id(b))"
   ]
  },
  {
   "cell_type": "code",
   "execution_count": 2,
   "metadata": {},
   "outputs": [
    {
     "name": "stdout",
     "output_type": "stream",
     "text": [
      "False\n"
     ]
    }
   ],
   "source": [
    "a=a+\"!\"\n",
    "b=b+\"!\"\n",
    "print(id(a) is id(b))"
   ]
  },
  {
   "cell_type": "code",
   "execution_count": 3,
   "metadata": {},
   "outputs": [
    {
     "data": {
      "text/plain": [
       "False"
      ]
     },
     "execution_count": 3,
     "metadata": {},
     "output_type": "execute_result"
    }
   ],
   "source": [
    "a=''.join(['f','o','o'])\n",
    "b=''.join(['f','o','o'])\n",
    "a is  b"
   ]
  },
  {
   "cell_type": "markdown",
   "metadata": {},
   "source": [
    "Such behavior is due to Cython optimization called **`string interning`** that tries to use the existing immutable objects rather than creating a new object to save memory.\n",
    "- all length 0 and 1 string are interned\n",
    "- strings will be interned at compile time instead of run time \n",
    "- strings that are not composed of ASCII letters ,digits or underscores are not interned\n",
    "> by the way **the different of 'id' and '=='**<br>\n",
    "'id' checks if both the operands refer to the same object .it is for reference equality<br>\n",
    "'==' compares the values of both the operands and checks if they are the same. it is for the value equality\n",
    "------------------\n",
    "这是因为Cpython优化的**字符串驻留**机制,其尝试使用已存在的不可变变量而非新建一个变量\n",
    "- 只有长度为0或1的字符会被驻留\n",
    "- 字符串驻留会在编译期发生即替换结果而非运行时\n",
    "- 字符串中字母、数字、下划线不会被驻留\n",
    "> 顺便提及‘id’ 和‘==’的区别  \n",
    "‘id’判断地址 ‘==’判断值"
   ]
  },
  {
   "cell_type": "markdown",
   "metadata": {},
   "source": [
    "## 2.peephole optimization  constant floding  small_ints cache"
   ]
  },
  {
   "cell_type": "code",
   "execution_count": 4,
   "metadata": {},
   "outputs": [
    {
     "name": "stdout",
     "output_type": "stream",
     "text": [
      "  3           0 LOAD_CONST               3 ('foobar')\n",
      "              2 RETURN_VALUE\n"
     ]
    }
   ],
   "source": [
    "import dis\n",
    "def foo():\n",
    "    return 'foo'+'bar'\n",
    "dis.dis(foo)"
   ]
  },
  {
   "cell_type": "code",
   "execution_count": 5,
   "metadata": {},
   "outputs": [
    {
     "data": {
      "text/plain": [
       "False"
      ]
     },
     "execution_count": 5,
     "metadata": {},
     "output_type": "execute_result"
    }
   ],
   "source": [
    "a='a'*20\n",
    "b='a'*21\n",
    "a is b"
   ]
  },
  {
   "cell_type": "code",
   "execution_count": 6,
   "metadata": {},
   "outputs": [
    {
     "name": "stdout",
     "output_type": "stream",
     "text": [
      "True\n",
      "True\n",
      "True\n",
      "True\n",
      "False\n",
      "False\n"
     ]
    }
   ],
   "source": [
    "a,b=257,257\n",
    "print(a==b)\n",
    "print(a is b)\n",
    "print(id(a)==id(b))\n",
    "a=257\n",
    "b=257\n",
    "print(a==b)\n",
    "print(a is b)\n",
    "print(id(a)==id(b))"
   ]
  },
  {
   "cell_type": "markdown",
   "metadata": {},
   "source": [
    "- source code will be transformed to **`raw byte code`** first than transformed to 'more efficient byte code ' via peephole optimization  \n",
    "- **`constant folding`** only occurs strings having length less than 20 (wont let **`.pyc`** to large) to reduce few clock cycles during runtime  \n",
    "- python will cache the frequency number to a list named **`small_ints`** just for **`[-5,256]`**  \n",
    "' = ' assigning operator in the same line will allocate same memory if just one value for multi-variances \n",
    "-----------\n",
    "- python源码会先被编译成原始字节码进而再通过peephole优化编译成更加高效的字节码\n",
    "- **字符串折叠** 仅仅发生在字符串长度不超过20的前提下(否则会使pyc文件过大),以在运行期减少时间周期\n",
    "- python会缓存常用整数 范围仅(-5,256)\n",
    "- 同行赋值同值同地址"
   ]
  },
  {
   "cell_type": "markdown",
   "metadata": {},
   "source": [
    "## 3.dict K&V"
   ]
  },
  {
   "cell_type": "code",
   "execution_count": 7,
   "metadata": {},
   "outputs": [
    {
     "name": "stdout",
     "output_type": "stream",
     "text": [
      "2\n",
      "2\n",
      "3\n"
     ]
    }
   ],
   "source": [
    "dict1={}\n",
    "dict1[1]='1'\n",
    "dict1[1.0]='2'\n",
    "dict1[1.1]='3'\n",
    "print(dict1[1])\n",
    "print(dict1[1.0])\n",
    "print(dict1[1.1])"
   ]
  },
  {
   "cell_type": "code",
   "execution_count": 8,
   "metadata": {},
   "outputs": [
    {
     "data": {
      "text/plain": [
       "True"
      ]
     },
     "execution_count": 8,
     "metadata": {},
     "output_type": "execute_result"
    }
   ],
   "source": [
    "hash(1.0) is hash(1)"
   ]
  },
  {
   "cell_type": "markdown",
   "metadata": {},
   "source": [
    "python dict check for equality and compare `hash(key)` to determinate if two keys have same value  \n",
    "\n",
    "----------------\n",
    "python 字典会根据`key`的hash值来确定是否是同一个key且在python中不可变变量同值同地址\n",
    "\n",
    "## 4.immutable ＆ mutable reference"
   ]
  },
  {
   "cell_type": "code",
   "execution_count": 9,
   "metadata": {},
   "outputs": [
    {
     "name": "stdout",
     "output_type": "stream",
     "text": [
      "4499363168\n",
      "4499363200\n",
      "4499363168\n",
      "[[1, 2], [1, 2], [1, 2]]   4538751496   4499363168\n",
      "[[3, 2], [3, 2], [3, 2]]   4538751496   4499363232\n"
     ]
    }
   ],
   "source": [
    "b=1\n",
    "print(id(b))\n",
    "b=2\n",
    "print(id(b))\n",
    "c=1\n",
    "print(id(c))\n",
    "a=[1,2]\n",
    "c=[a]*3\n",
    "print(c,' ',id(c[0]),' ',id(a[0]))\n",
    "a[0]=3\n",
    "print(c,' ',id(c[0]),' ',id(a[0]))"
   ]
  },
  {
   "cell_type": "markdown",
   "metadata": {},
   "source": [
    "immutable varience will give certain memory by value and this memory cant be changed just can turn to other memory<br>\n",
    "mutable varience will give certain memory and the deeply immutable varience in this are same as below  \n",
    "\n",
    "---------------------------------------\n",
    "h不可变变量根据值分配内存地址若更改即更改其指向\n",
    "可变变量分配内存地址后不变,子不可变变量法则如上"
   ]
  },
  {
   "cell_type": "markdown",
   "metadata": {},
   "source": [
    "## 5. declare & runtime"
   ]
  },
  {
   "cell_type": "code",
   "execution_count": 10,
   "metadata": {},
   "outputs": [
    {
     "name": "stdout",
     "output_type": "stream",
     "text": [
      "[8]\n",
      "[1, 8, 15]\n"
     ]
    }
   ],
   "source": [
    "array=[1,8,15]\n",
    "g=(i for i in array if array.count(i)>0)\n",
    "array=[2,8,22]\n",
    "print(list(g))\n",
    "array=[1,8,15]\n",
    "g=[i for i in array if array.count(i)>0]\n",
    "array=[2,8,22]\n",
    "print(g)"
   ]
  },
  {
   "cell_type": "markdown",
   "metadata": {
    "collapsed": true
   },
   "source": [
    "In　a **`generator`** expression __`in`__ is declareation time to determinate some constant or others, but the __`if`__ conditional clause is evaluated at runtime  \n",
    "SO first **x** is determined in compile time by '1,8,15' second **x** will determined in runtime  \n",
    "And second line express a generator it wont excute right away  \n",
    "When call **list()** to excute generator **array** is changed to '2,8,22' \n",
    "\n",
    "--------------------------------------------------\n",
    "\n",
    "在生成器表达式中`in`关键字是在编译期决定`x`的值，而`if`则是在运行期决定array的值\n",
    "所以在for中的x为[1,8,15]"
   ]
  },
  {
   "cell_type": "markdown",
   "metadata": {
    "collapsed": true
   },
   "source": [
    "## 6. def in loop"
   ]
  },
  {
   "cell_type": "code",
   "execution_count": 11,
   "metadata": {},
   "outputs": [
    {
     "name": "stdout",
     "output_type": "stream",
     "text": [
      "[0, 1, 2, 3, 4, 5, 6] \n",
      " [6, 6, 6, 6, 6, 6, 6]\n"
     ]
    }
   ],
   "source": [
    "funcs = []\n",
    "results = []\n",
    "for x in range(7):\n",
    "    def some_func():\n",
    "        return x\n",
    "    funcs.append(some_func)\n",
    "    results.append(some_func())\n",
    "funcs_results = [func() for func in funcs]\n",
    "print(results,'\\n',funcs_results)"
   ]
  },
  {
   "cell_type": "code",
   "execution_count": 12,
   "metadata": {},
   "outputs": [
    {
     "data": {
      "text/plain": [
       "[64, 64, 64, 64, 64, 64, 64]"
      ]
     },
     "execution_count": 12,
     "metadata": {},
     "output_type": "execute_result"
    }
   ],
   "source": [
    "func=[lambda x: x**i for i in range(7)]\n",
    "[f(2) for f in func]"
   ]
  },
  {
   "cell_type": "markdown",
   "metadata": {},
   "source": [
    "when defining a function inside a loop which uses variables in its body, the loop function is bound to the variable's memory not the value. So all of the functions use the latest value assigned to the variable for computation\n",
    "\n",
    "-----------------------------\n",
    "循环内部定义的函数使用的变量的话，函数绑定其指针而非地址，且该例中多个不同的函数绑定的是同一个x变量的地址  \n",
    "所以调用时的x都是最新的x值"
   ]
  },
  {
   "cell_type": "markdown",
   "metadata": {},
   "source": [
    "## 7. Backlashes & raw string"
   ]
  },
  {
   "cell_type": "code",
   "execution_count": 13,
   "metadata": {},
   "outputs": [
    {
     "ename": "SyntaxError",
     "evalue": "EOL while scanning string literal (<ipython-input-13-cf5478249089>, line 4)",
     "output_type": "error",
     "traceback": [
      "\u001b[0;36m  File \u001b[0;32m\"<ipython-input-13-cf5478249089>\"\u001b[0;36m, line \u001b[0;32m4\u001b[0m\n\u001b[0;31m    print(r'\\ C\\\\\\:\\\")\u001b[0m\n\u001b[0m                      ^\u001b[0m\n\u001b[0;31mSyntaxError\u001b[0m\u001b[0;31m:\u001b[0m EOL while scanning string literal\n"
     ]
    }
   ],
   "source": [
    "print(\"\\\\ C:\\\\\")\n",
    "print(r\"\\ C:\")\n",
    "print(r\"\\ C:\\\\\")\n",
    "print(r'\\ C\\\\\\:\\\")\n"
   ]
  },
  {
   "cell_type": "markdown",
   "metadata": {},
   "source": [
    "> Even in a raw literal, quotes can be escaped with a backslash, but the\n",
    "backslash remains in the result; for example, r\"\\\"\" is a valid string\n",
    "literal consisting of two characters: a backslash and a double quote; r\"\\\"\n",
    "is not a valid string literal (even a raw string cannot end in an odd number of\n",
    "backslashes).  Specifically, a raw literal cannot end in a single backslash\n",
    "(since the backslash would escape the following quote character).  Note also\n",
    "that a single backslash followed by a newline is interpreted as those two\n",
    "characters as part of the literal, not as a line continuation\n",
    "\n",
    "----------\n",
    "+ raw字符串仍然按照有转义的方式解析，但所有应当转义的字符都转义成了`反斜杠 + 被转义字符`，也就是说和转义前保持不变.\n",
    "+ 但是仅有一个地方不一样，就是引号、回车的转义。若raw string中以奇数个转义字符，那么最后一个转义字符就会转义最后一个结束引号。\n",
    "\n",
    "```python\n",
    "'abc\\\n",
    "def' # 'abcdef'\n",
    "```\n",
    "\n",
    "```py\n",
    "r'abc\\\n",
    "def' # 'abc\\\\\\ndef'\n",
    "```"
   ]
  },
  {
   "cell_type": "markdown",
   "metadata": {},
   "source": [
    "## 8. apply & reduce & map & filter"
   ]
  },
  {
   "cell_type": "code",
   "execution_count": 14,
   "metadata": {},
   "outputs": [
    {
     "name": "stdout",
     "output_type": "stream",
     "text": [
      "2 1\n",
      "[4, 5, 6, 7, 8] [3, 4, 5] 15 4096 [(1, 1), (2, None), (3, None), (4, None), (5, None)] [(1, 2), (3, 4)]\n"
     ]
    }
   ],
   "source": [
    "import operator\n",
    "import itertools\n",
    "from functools import reduce\n",
    "a=[1,2,3,4,5]\n",
    "def func(*,a=1,b=1):\n",
    "    print(a,b)\n",
    "func(**{'a':2})\n",
    "b=list(map(lambda x:x+3,a))\n",
    "c=list(filter(lambda x:x>2,a))\n",
    "d=reduce(lambda x,y:x+y,a)\n",
    "e=(reduce(operator.pow,[2,3,4]))\n",
    "res=list(itertools.zip_longest(a,[1]))\n",
    "res1=list(zip(*[iter(a)]*2))\n",
    "print(b,c,d,e,res,res1)"
   ]
  },
  {
   "cell_type": "markdown",
   "metadata": {
    "collapsed": true
   },
   "source": [
    "+ python 3  ：Instead of apply(f, args) use f(*args). unpacking is importanr \n",
    "Replace this:  \n",
    "w = apply(OptionMenu, (master, option) + tuple(movieList))  \n",
    "with this:  \n",
    "w = OptionMenu(*(master, option) + tuple(movieList))\n",
    "+ `zip` just gets the shortest length for result . itertools.zip_longest gets the longest\n",
    "+ `reduce` moved to functools\n",
    "+  `zip(*zip(a,a))` can unpack the `zip`\n",
    "-----------------------\n",
    "+ python3 不在有`apply`内置函数，官方文档说明直接使用unpacking的方式在函数中调用即可\n",
    "+ `zip` 默认取最短的为边界 超出截断。 有需求可使用`itertools.zip_longest` 以最长长度为边界 不足补`None`\n",
    "+ `reduce` 移到了`functools`中 手动import\n",
    "+ `zip(*zip(a,a))` 可以对里层zip拆箱 "
   ]
  },
  {
   "cell_type": "markdown",
   "metadata": {},
   "source": [
    "### 9. Class variable"
   ]
  },
  {
   "cell_type": "code",
   "execution_count": 15,
   "metadata": {},
   "outputs": [
    {
     "name": "stdout",
     "output_type": "stream",
     "text": [
      "4538750152\n",
      "4538770632\n",
      "4538751560\n",
      "4538751560\n",
      "[5, 420]\n",
      "[5, 420]\n",
      "4538750152\n",
      "4539060296\n",
      "4538751560\n",
      "4538751560\n",
      "[5, 111]\n",
      "[5, 420, 111]\n",
      "True\n",
      "False\n",
      "False\n"
     ]
    }
   ],
   "source": [
    "class SomeClass:\n",
    "    some_var = 15\n",
    "    some_list = [5]\n",
    "    another_list = [5]\n",
    "    def __init__(self, x): \n",
    "        self.some_var = x + 1\n",
    "        print(id(self.some_list))\n",
    "        self.some_list = self.some_list + [x]\n",
    "        print(id(self.some_list))\n",
    "        print(id(self.another_list))\n",
    "        self.another_list += [x]\n",
    "        print(id(self.another_list))\n",
    "s=SomeClass(420)\n",
    "print(s.some_list)\n",
    "print(s.another_list)\n",
    "ss=SomeClass(111)\n",
    "print(ss.some_list)\n",
    "print(ss.another_list)\n",
    "print(ss.another_list==s.another_list)\n",
    "print(ss.some_list==s.some_list)\n",
    "print(ss.some_var==s.some_var)"
   ]
  },
  {
   "cell_type": "markdown",
   "metadata": {
    "collapsed": true
   },
   "source": [
    "+ Class variables and variables in class instances are internally handled as dictionaries of a class object. If a variable name is not found in the dictionary of the current class, the parent classes are searched for it. \n",
    "+ The  +=  operator modifies the mutable object in-place without creating a new object. So changing the attribute of one instance affects the other instances and the class attribute as well.\n",
    "---------------------\n",
    "+ 类变量和实例变量经内部处理为类的字典，若在当前类的字典中找不到则去其父类的字典寻找\n",
    "+ `+=` 操作符会调整可变对象的内部值而非创建一个新的对象。所以改变一个实例的属性会影响其他类的属性"
   ]
  },
  {
   "cell_type": "markdown",
   "metadata": {},
   "source": [
    "### 10. immutable sequences"
   ]
  },
  {
   "cell_type": "code",
   "execution_count": 16,
   "metadata": {},
   "outputs": [
    {
     "name": "stdout",
     "output_type": "stream",
     "text": [
      "([1, 2], [3, 4], [5, 6, 2])\n"
     ]
    },
    {
     "ename": "TypeError",
     "evalue": "'tuple' object does not support item assignment",
     "output_type": "error",
     "traceback": [
      "\u001b[0;31m---------------------------------------------------------------------------\u001b[0m",
      "\u001b[0;31mTypeError\u001b[0m                                 Traceback (most recent call last)",
      "\u001b[0;32m<ipython-input-16-0df94381ebf3>\u001b[0m in \u001b[0;36m<module>\u001b[0;34m()\u001b[0m\n\u001b[1;32m      7\u001b[0m     \u001b[0;32mraise\u001b[0m \u001b[0me\u001b[0m\u001b[0;34m\u001b[0m\u001b[0m\n\u001b[1;32m      8\u001b[0m \u001b[0mprint\u001b[0m\u001b[0;34m(\u001b[0m\u001b[0mother_tuple\u001b[0m\u001b[0;34m)\u001b[0m\u001b[0;34m\u001b[0m\u001b[0m\n\u001b[0;32m----> 9\u001b[0;31m \u001b[0mother_tuple\u001b[0m\u001b[0;34m[\u001b[0m\u001b[0;36m2\u001b[0m\u001b[0;34m]\u001b[0m\u001b[0;34m+=\u001b[0m\u001b[0;34m[\u001b[0m\u001b[0;36m2\u001b[0m\u001b[0;34m]\u001b[0m\u001b[0;34m\u001b[0m\u001b[0m\n\u001b[0m",
      "\u001b[0;31mTypeError\u001b[0m: 'tuple' object does not support item assignment"
     ]
    }
   ],
   "source": [
    "some_tuple=('a','tuple','with','value')\n",
    "other_tuple=([1,2],[3,4],[5,6])\n",
    "#some_tuple[2]='111'\n",
    "try:\n",
    "    other_tuple[2].append(2)\n",
    "except Exception as e:\n",
    "    raise e\n",
    "print(other_tuple)\n",
    "other_tuple[2]+=[2]\n"
   ]
  },
  {
   "cell_type": "code",
   "execution_count": 17,
   "metadata": {},
   "outputs": [
    {
     "name": "stdout",
     "output_type": "stream",
     "text": [
      "([1, 2], [3, 4], [5, 6, 2, 2])\n"
     ]
    }
   ],
   "source": [
    "print(other_tuple)"
   ]
  },
  {
   "cell_type": "markdown",
   "metadata": {},
   "source": [
    "+ An object of an immutable sequence type cannot change once it is created. (If the object contains references to other objects, these other objects may be mutable and may be modified; however, the collection of objects directly referenced by an immutable object cannot change.)\n",
    "+ +=  operator changes the list in-place. The item assignment doesn't work, but when the exception occurs, the item has already been changed in place\n",
    "--------------\n",
    "+ 不可变序列类型一旦创建则不可改变。如果引用了其他可变对象，这些可变对象的直接引用的集合不可改变\n",
    "+ `+=` 操作符直接修改列表，对象赋值不起作用但是当抛出异常时对象已经被修改了"
   ]
  },
  {
   "cell_type": "markdown",
   "metadata": {},
   "source": [
    "### 11.try-finally"
   ]
  },
  {
   "cell_type": "code",
   "execution_count": 18,
   "metadata": {},
   "outputs": [
    {
     "ename": "NameError",
     "evalue": "name 'e' is not defined",
     "output_type": "error",
     "traceback": [
      "\u001b[0;31m---------------------------------------------------------------------------\u001b[0m",
      "\u001b[0;31mNameError\u001b[0m                                 Traceback (most recent call last)",
      "\u001b[0;32m<ipython-input-18-1b889f418c8d>\u001b[0m in \u001b[0;36m<module>\u001b[0;34m()\u001b[0m\n\u001b[1;32m      4\u001b[0m \u001b[0;32mexcept\u001b[0m \u001b[0mException\u001b[0m \u001b[0;32mas\u001b[0m \u001b[0me\u001b[0m\u001b[0;34m:\u001b[0m\u001b[0;34m\u001b[0m\u001b[0m\n\u001b[1;32m      5\u001b[0m     \u001b[0;32mpass\u001b[0m\u001b[0;34m\u001b[0m\u001b[0m\n\u001b[0;32m----> 6\u001b[0;31m \u001b[0mprint\u001b[0m\u001b[0;34m(\u001b[0m\u001b[0me\u001b[0m\u001b[0;34m)\u001b[0m\u001b[0;34m\u001b[0m\u001b[0m\n\u001b[0m",
      "\u001b[0;31mNameError\u001b[0m: name 'e' is not defined"
     ]
    }
   ],
   "source": [
    "e=\"variable\"\n",
    "try:\n",
    "    raise Exception()\n",
    "except Exception as e:\n",
    "    pass\n",
    "print(e)"
   ]
  },
  {
   "cell_type": "markdown",
   "metadata": {},
   "source": [
    "```python\n",
    "except Exception as e:\n",
    "try:\n",
    "    foo\n",
    "finally:\n",
    "    del e\n",
    "```\n",
    "\n",
    "\n",
    "This means the exception must be assigned to a different name to be able to refer to it after the except clause. Exceptions are cleared because, with the traceback attached to them, they form a reference cycle w ith the stack frame, keeping all locals in that frame alive until the next garbage collection occurs\n",
    "\n",
    "\n",
    "------------------\n",
    "一般来说变量名不要和错误名同名，在try-except结构中，最后默认`finally`将删除这个变量等待下一次的gc\n"
   ]
  },
  {
   "cell_type": "markdown",
   "metadata": {},
   "source": [
    "### 12. in-place function return None"
   ]
  },
  {
   "cell_type": "code",
   "execution_count": 19,
   "metadata": {},
   "outputs": [
    {
     "name": "stdout",
     "output_type": "stream",
     "text": [
      "None None\n"
     ]
    }
   ],
   "source": [
    "some_list = [1, 2, 3]\n",
    "some_dict = {\n",
    "    \"key_1\": 1,\n",
    "    \"key_2\": 2,\n",
    "    \"key_3\": 3\n",
    "}\n",
    "some_list = some_list.append(4)\n",
    "some_dict = some_dict.update({\"key_4\": 4})\n",
    "print(some_list,some_dict)"
   ]
  },
  {
   "cell_type": "markdown",
   "metadata": {},
   "source": [
    "Most methods that modify the items of sequence/mapping objects like list.append , dict.update , list.sort , etc. modify the\n",
    "objects in-place and return None . The rationale behind this is to improve performance by avoiding making a copy of the object if\n",
    "the operation can be done in-place (Referred from here)\n",
    "\n",
    "------------------\n",
    "很多像序列或者映射的方法` list.append , dict.update , list.sort` 等等都是直接替换并且返回`None`"
   ]
  },
  {
   "cell_type": "markdown",
   "metadata": {},
   "source": [
    "### 13. user-defined class & hashable collection"
   ]
  },
  {
   "cell_type": "code",
   "execution_count": 20,
   "metadata": {},
   "outputs": [
    {
     "name": "stdout",
     "output_type": "stream",
     "text": [
      "True\n",
      "{'s': 40} <class 'str'>\n"
     ]
    }
   ],
   "source": [
    "class faker(str):\n",
    "    pass\n",
    "\n",
    "f_dict = {'s':42}\n",
    "s = faker('s')\n",
    "print(hash('s')==hash(s))\n",
    "f_dict[s]=40\n",
    "print(f_dict,type(list(f_dict.keys())[0]))"
   ]
  },
  {
   "cell_type": "code",
   "execution_count": 68,
   "metadata": {},
   "outputs": [
    {
     "name": "stdout",
     "output_type": "stream",
     "text": [
      "__hash__\n",
      "True\n",
      "<bound method real.__hash__ of <__main__.real object at 0x10e93eb38>> <method-wrapper '__hash__' of str object at 0x10c478fb8>\n"
     ]
    }
   ],
   "source": [
    "class real:\n",
    "    item='s'\n",
    "    def __eq__(self,other):\n",
    "        print('__eq__ ' ,(self,other))\n",
    "        return (type(self)==real and type(other)==real and super.__eq__(other))\n",
    "#     __hash__=object.__hash__\n",
    "\n",
    "    def __hash__(item):\n",
    "        print('__hash__')\n",
    "        return hash('s')\n",
    "s=real()\n",
    "print(hash(s)==hash('s'))\n",
    "print(s.__hash__,'s'.__hash__)"
   ]
  },
  {
   "cell_type": "code",
   "execution_count": 70,
   "metadata": {},
   "outputs": [
    {
     "name": "stdout",
     "output_type": "stream",
     "text": [
      "__hash__\n",
      "__eq__  (<__main__.real object at 0x10e93eb38>, 's')\n",
      "{'s': 1, <__main__.real object at 0x10e93eb38>: 2}\n",
      "__hash__\n",
      "True\n"
     ]
    }
   ],
   "source": [
    "d={}\n",
    "d['s']=1\n",
    "d[s]=2\n",
    "print(d)\n",
    "print(hash(s)==hash('s'))\n"
   ]
  },
  {
   "cell_type": "markdown",
   "metadata": {},
   "source": [
    "- If a class does not define an __eq__() method it should not define a __hash__() operation either; \n",
    "- if it defines __eq__() but not __hash__(), its instances will not be usable as items in hashable collections.\n",
    "- If a class defines mutable objects and implements an __eq__() method, it should not implement __hash__(), since the implementation of hashable collections requires that a key’s hash value is immutable (if the object’s hash value changes, it will be in the wrong hash bucket).\n",
    "\n",
    "---------\n",
    "\n",
    "- 如果一个类没有定义`__eq__()`函数那么也不应该定义`__hash__()`\n",
    "- 如果定义了`__eq__()`但是没有定义`__hash__()`,该类所生成的实例将不能被用于可哈希集合\n",
    "- 如果一个类定义了可变对象并且实现了`__eq__()`方法，那么该类不应该实现`__hash__()`，因为可哈希集合要求键key的hash值是不可变的(如果对象的哈希值改变了那么他将被放在错误的hash 桶中)\n",
    "\n",
    "----------\n",
    "> User-defined classes have __eq__() and __hash__() methods by default; with them, all objects compare unequal (except with themselves) and x.__hash__() returns an appropriate value such that x == y implies both that x is y and hash(x) == hash(y).\n",
    "\n",
    "-----------\n",
    "\n",
    "> 用户自定义的类中有默认的`__eq__() &__hash__()`方法,所以所有除了自身实例以外的对象比较都是不相等的并且`__hash__()`将返回一个大约的值使得 `x==y` 和 `x is y & hash(x) == hash(y)` 一样 \n",
    "\n",
    "\n",
    "- A class that overrides __eq__() and does not define __hash__() will have its __hash__() implicitly set to None. When the __hash__() method of a class is None, instances of the class will raise an appropriate TypeError when a program attempts to retrieve their hash value, and will also be correctly identified as unhashable when checking isinstance(obj, collections.abc.Hashable).\n",
    "\n",
    "\n",
    "---------\n",
    "\n",
    "- 一个类重写了`__eq__()`方法并且没有定义`__hash__()`将会使得该实例的`__hash__()`隐式设置成None，此时当程序尝试得到实例的hash值得时候将会抛出一个`TypeError`\n",
    "\n",
    "\n",
    "- If a class that overrides __eq__() needs to retain the implementation of __hash__() from a parent class, the interpreter must be told this explicitly by setting __hash__ = <ParentClass>.__hash__.\n",
    "\n",
    "- If a class that does not override __eq__() wishes to suppress hash support, it should include __hash__ = None in the class definition. A class which defines its own __hash__() that explicitly raises a TypeError would be incorrectly identified as hashable by an isinstance(obj, collections.abc.Hashable) call.\n",
    "\n",
    "----------\n",
    "\n",
    "- 如果一个类重写了`__eq__()`方法，那么也需要保留父类的`__hash__()`,通过`__hash__ = <ParentClass>.__hash__.`显式设置\n",
    "\n",
    "- 如果一个类没有重写`__eq__()`方法并且希望取消hash支持那么应该在类定义中`__hash__=None`。\n",
    "\n",
    "---------\n",
    "在向可哈希集合中加入新元素的时候，首先会根据key的hash值来判断该对象将放到哪儿个桶，如果桶里有元素了就会根据equal来判断是不是同一个值 如果是那就删除如果不是那就成立 所以上述例子中的`s & 's'` 虽然__hash__相等但是equal不等 所以仍在gong'zai"
   ]
  },
  {
   "cell_type": "markdown",
   "metadata": {},
   "source": []
  },
  {
   "cell_type": "code",
   "execution_count": 6,
   "metadata": {},
   "outputs": [],
   "source": [
    "import numpy as np\n",
    "a=np.ones((2,3))\n",
    "b=np.ones((3,2))"
   ]
  },
  {
   "cell_type": "code",
   "execution_count": 7,
   "metadata": {},
   "outputs": [
    {
     "data": {
      "text/plain": [
       "(2, 3)"
      ]
     },
     "execution_count": 7,
     "metadata": {},
     "output_type": "execute_result"
    }
   ],
   "source": [
    "a.shape"
   ]
  },
  {
   "cell_type": "code",
   "execution_count": 8,
   "metadata": {},
   "outputs": [
    {
     "data": {
      "text/plain": [
       "(3, 2)"
      ]
     },
     "execution_count": 8,
     "metadata": {},
     "output_type": "execute_result"
    }
   ],
   "source": [
    "b.shape"
   ]
  },
  {
   "cell_type": "code",
   "execution_count": 9,
   "metadata": {},
   "outputs": [
    {
     "ename": "ValueError",
     "evalue": "operands could not be broadcast together with shapes (2,3) (3,2) ",
     "output_type": "error",
     "traceback": [
      "\u001b[0;31m---------------------------------------------------------------------------\u001b[0m",
      "\u001b[0;31mValueError\u001b[0m                                Traceback (most recent call last)",
      "\u001b[0;32m<ipython-input-9-ca730b97bf8a>\u001b[0m in \u001b[0;36m<module>\u001b[0;34m()\u001b[0m\n\u001b[0;32m----> 1\u001b[0;31m \u001b[0ma\u001b[0m\u001b[0;34m+\u001b[0m\u001b[0mb\u001b[0m\u001b[0;34m\u001b[0m\u001b[0m\n\u001b[0m",
      "\u001b[0;31mValueError\u001b[0m: operands could not be broadcast together with shapes (2,3) (3,2) "
     ]
    }
   ],
   "source": [
    "a+b"
   ]
  },
  {
   "cell_type": "code",
   "execution_count": 9,
   "metadata": {},
   "outputs": [
    {
     "name": "stderr",
     "output_type": "stream",
     "text": [
      "/usr/local/miniconda3/lib/python3.6/site-packages/ipykernel_launcher.py:3: RuntimeWarning: divide by zero encountered in log2\n",
      "  This is separate from the ipykernel package so we can avoid doing imports until\n",
      "/usr/local/miniconda3/lib/python3.6/site-packages/ipykernel_launcher.py:3: RuntimeWarning: invalid value encountered in multiply\n",
      "  This is separate from the ipykernel package so we can avoid doing imports until\n"
     ]
    },
    {
     "data": {
      "text/plain": [
       "[<matplotlib.lines.Line2D at 0x11978fd68>]"
      ]
     },
     "execution_count": 9,
     "metadata": {},
     "output_type": "execute_result"
    },
    {
     "data": {
      "image/png": "[encoded data removed]",
      "text/plain": [
       "<Figure size 432x288 with 1 Axes>"
      ]
     },
     "metadata": {},
     "output_type": "display_data"
    }
   ],
   "source": [
    "import numpy as np\n",
    "x=np.linspace(0,10,100)\n",
    "y=-(x/10)*np.log2(x/10)-((10-x)/10)*np.log2((10-x)/10)\n",
    "import matplotlib.pyplot as plt\n",
    "%matplotlib inline\n",
    "plt.plot(x,y)"
   ]
  },
  {
   "cell_type": "code",
   "execution_count": null,
   "metadata": {},
   "outputs": [],
   "source": []
  },
  {
   "cell_type": "code",
   "execution_count": null,
   "metadata": {},
   "outputs": [],
   "source": []
  },
  {
   "cell_type": "code",
   "execution_count": null,
   "metadata": {},
   "outputs": [],
   "source": []
  }
 ],
 "metadata": {
  "kernelspec": {
   "display_name": "Python 3",
   "language": "python",
   "name": "python3"
  },
  "language_info": {
   "codemirror_mode": {
    "name": "ipython",
    "version": 3
   },
   "file_extension": ".py",
   "mimetype": "text/x-python",
   "name": "python",
   "nbconvert_exporter": "python",
   "pygments_lexer": "ipython3",
   "version": "3.6.5"
  }
 },
 "nbformat": 4,
 "nbformat_minor": 2
}
