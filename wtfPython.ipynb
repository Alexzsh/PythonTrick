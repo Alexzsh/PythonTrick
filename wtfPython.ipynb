{
 "cells": [
  {
   "cell_type": "markdown",
   "metadata": {},
   "source": [
    "### wtfPython docu"
   ]
  },
  {
   "cell_type": "markdown",
   "metadata": {},
   "source": [
    "## 1.string interning"
   ]
  },
  {
   "cell_type": "code",
   "execution_count": 2,
   "metadata": {
    "collapsed": false
   },
   "outputs": [
    {
     "name": "stdout",
     "output_type": "stream",
     "text": [
      "True\n"
     ]
    }
   ],
   "source": [
    "a=\"a_b\"\n",
    "b=\"a\"+\"_\"+\"b\"\n",
    "print(id(a)==id(b))"
   ]
  },
  {
   "cell_type": "code",
   "execution_count": 11,
   "metadata": {
    "collapsed": false
   },
   "outputs": [
    {
     "name": "stdout",
     "output_type": "stream",
     "text": [
      "False\n"
     ]
    }
   ],
   "source": [
    "a=a+\"!\"\n",
    "b=b+\"!\"\n",
    "print(id(a) is id(b))"
   ]
  },
  {
   "cell_type": "code",
   "execution_count": 10,
   "metadata": {
    "collapsed": false
   },
   "outputs": [
    {
     "data": {
      "text/plain": [
       "False"
      ]
     },
     "execution_count": 10,
     "metadata": {},
     "output_type": "execute_result"
    }
   ],
   "source": [
    "a=''.join(['f','o','o'])\n",
    "b=''.join(['f','o','o'])\n",
    "a is  b"
   ]
  },
  {
   "cell_type": "code",
   "execution_count": 12,
   "metadata": {
    "collapsed": false
   },
   "outputs": [
    {
     "data": {
      "text/plain": [
       "False"
      ]
     },
     "execution_count": 12,
     "metadata": {},
     "output_type": "execute_result"
    }
   ],
   "source": [
    "a='a'*20\n",
    "b='a'*21\n",
    "a is b"
   ]
  },
  {
   "cell_type": "markdown",
   "metadata": {},
   "source": [
    "Such behavior is due to Cython optimization called **`string interning`** that tries to use the existing immutable objects rather than creating a new object to save memory.\n",
    "- all length 0 and 1 string are interned\n",
    "- strings will be interned at compile time instead of run time \n",
    "- strings that are not composed of ASCII letters ,digits or underscores are not interned\n",
    "> by the way **the different of 'id' and '=='**<br>\n",
    "'id' checks if both the operands refer to the same object .it is for reference equality<br>\n",
    "'==' compares the values of both the operands and checks if they are the same. it is for the value equality"
   ]
  },
  {
   "cell_type": "markdown",
   "metadata": {},
   "source": [
    "## 2.peephole optimization  constant floding  small_ints cache"
   ]
  },
  {
   "cell_type": "code",
   "execution_count": 13,
   "metadata": {
    "collapsed": false
   },
   "outputs": [
    {
     "name": "stdout",
     "output_type": "stream",
     "text": [
      "  3           0 LOAD_CONST               3 ('foobar')\n",
      "              2 RETURN_VALUE\n"
     ]
    }
   ],
   "source": [
    "import dis\n",
    "def foo():\n",
    "    return 'foo'+'bar'\n",
    "dis.dis(foo)"
   ]
  },
  {
   "cell_type": "code",
   "execution_count": 7,
   "metadata": {
    "collapsed": false
   },
   "outputs": [
    {
     "name": "stdout",
     "output_type": "stream",
     "text": [
      "True\n",
      "True\n",
      "True\n",
      "False\n"
     ]
    }
   ],
   "source": [
    "a,b=257,257\n",
    "print(a==b)\n",
    "print(a is b)\n",
    "a=257\n",
    "b=257\n",
    "print(a==b)\n",
    "print(a is b)"
   ]
  },
  {
   "cell_type": "markdown",
   "metadata": {},
   "source": [
    "- source code will be transformed to **`raw byte code`** first than transformed to 'more efficient byte code ' via peephole optimization  \n",
    "- **`constant folding`** only occurs strings having length less than 20 (wont let **`.pyc`** to large) to reduce few clock cycles during runtime  \n",
    "- python will cache the frequency number to a list named **`small_ints`** just for **`[-5,256]`**  \n",
    "' = ' assigning operator in the same line will allocate same memory if just one value for multi-variances "
   ]
  },
  {
   "cell_type": "markdown",
   "metadata": {
    "collapsed": false
   },
   "source": []
  },
  {
   "cell_type": "code",
   "execution_count": 33,
   "metadata": {
    "collapsed": false
   },
   "outputs": [
    {
     "data": {
      "text/plain": [
       "True"
      ]
     },
     "execution_count": 33,
     "metadata": {},
     "output_type": "execute_result"
    }
   ],
   "source": [
    "hash(1.0) is hash(1)"
   ]
  },
  {
   "cell_type": "markdown",
   "metadata": {
    "collapsed": false
   },
   "source": [
    "python dict check for equality and compare `hash(key)` to determinate if two keys have same value"
   ]
  },
  {
   "cell_type": "code",
   "execution_count": null,
   "metadata": {
    "collapsed": true
   },
   "outputs": [],
   "source": [
    "import dis\n",
    "def foo():\n",
    "    a=1\n",
    "    print(id(a))\n",
    "    try:\n",
    "        a+=1\n",
    "        print(id(a))\n",
    "        return a\n",
    "    finally:\n",
    "        a+=1\n",
    "        print(id(a))\n",
    "\n",
    "    return a\n",
    "# print(dis.dis(foo))\n",
    "print(foo())\n",
    "b=\"1\"\n",
    "print(id(b))\n",
    "b=\"1\"\n",
    "print(id(b))\n",
    "print(\"---------------------\")\n",
    "c=[1,2]\n",
    "print(c,' ',id(c[0]),' ',id(c[1]),' ',id(c))\n",
    "c[0]=3\n",
    "print(c,' ',id(c[0]),' ',id(c[1]),' ',id(c))\n",
    "id(c)"
   ]
  },
  {
   "cell_type": "markdown",
   "metadata": {},
   "source": [
    "不可变变量会根据值的内容分配空间 并且不能改变改空间的内容只能更改指向  \n",
    "可变变量也是根据指针决定内存空间，但是直接指向的空间存的也是深层内容的指针"
   ]
  },
  {
   "cell_type": "code",
   "execution_count": 1,
   "metadata": {
    "collapsed": false
   },
   "outputs": [
    {
     "name": "stdout",
     "output_type": "stream",
     "text": [
      "[8]\n"
     ]
    }
   ],
   "source": [
    "array=[1,8,15]\n",
    "g=(i for i in array if array.count(i)>0)\n",
    "array=[2,8,22]\n",
    "print(list(g))"
   ]
  },
  {
   "cell_type": "markdown",
   "metadata": {
    "collapsed": true
   },
   "source": [
    "In　a `generator` expression `in` is declareation time to determinate some constant or others, but the `if` conditional clause is evaluated at runtime\n",
    "SO `in`"
   ]
  }
 ],
 "metadata": {
  "kernelspec": {
   "display_name": "Python 3",
   "language": "python",
   "name": "python3"
  },
  "language_info": {
   "codemirror_mode": {
    "name": "ipython",
    "version": 3
   },
   "file_extension": ".py",
   "mimetype": "text/x-python",
   "name": "python",
   "nbconvert_exporter": "python",
   "pygments_lexer": "ipython3",
   "version": "3.6.2"
  }
 },
 "nbformat": 4,
 "nbformat_minor": 2
}
